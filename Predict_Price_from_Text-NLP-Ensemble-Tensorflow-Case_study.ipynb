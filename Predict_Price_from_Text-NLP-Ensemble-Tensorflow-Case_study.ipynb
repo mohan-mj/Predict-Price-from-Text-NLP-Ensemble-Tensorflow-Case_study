{
  "nbformat": 4,
  "nbformat_minor": 0,
  "metadata": {
    "colab": {
      "name": "Untitled1.ipynb",
      "version": "0.3.2",
      "provenance": [],
      "collapsed_sections": [],
      "machine_shape": "hm",
      "include_colab_link": true
    },
    "kernelspec": {
      "name": "python3",
      "display_name": "Python 3"
    },
    "accelerator": "GPU"
  },
  "cells": [
    {
      "cell_type": "markdown",
      "metadata": {
        "id": "view-in-github",
        "colab_type": "text"
      },
      "source": [
        "<a href=\"https://colab.research.google.com/github/mohan-mj/Predict_Price_from_Text-NLP-Ensemble-Tensorflow-Case_study/blob/master/Predict_Price_from_Text-NLP-Ensemble-Tensorflow-Case_study.ipynb\" target=\"_parent\"><img src=\"https://colab.research.google.com/assets/colab-badge.svg\" alt=\"Open In Colab\"/></a>"
      ]
    },
    {
      "cell_type": "code",
      "metadata": {
        "id": "soT0G0FjTp6h",
        "colab_type": "code",
        "colab": {}
      },
      "source": [
        "import os\n",
        "import numpy as np\n",
        "import pandas as pd\n",
        "import tensorflow as tf"
      ],
      "execution_count": 0,
      "outputs": []
    },
    {
      "cell_type": "code",
      "metadata": {
        "id": "EfVOrBfUUdiH",
        "colab_type": "code",
        "colab": {}
      },
      "source": [
        "from sklearn.preprocessing import LabelEncoder\n",
        "from tensorflow import keras"
      ],
      "execution_count": 0,
      "outputs": []
    },
    {
      "cell_type": "code",
      "metadata": {
        "id": "gPEYyBN8Uovt",
        "colab_type": "code",
        "colab": {}
      },
      "source": [
        "layers = keras.layers"
      ],
      "execution_count": 0,
      "outputs": []
    },
    {
      "cell_type": "code",
      "metadata": {
        "id": "Wx7P3RTnUsHQ",
        "colab_type": "code",
        "colab": {
          "base_uri": "https://localhost:8080/",
          "height": 34
        },
        "outputId": "a2d282b3-bb53-4765-f47c-e2b7ed4deb9d"
      },
      "source": [
        "tf.__version__"
      ],
      "execution_count": 4,
      "outputs": [
        {
          "output_type": "execute_result",
          "data": {
            "text/plain": [
              "'1.14.0'"
            ]
          },
          "metadata": {
            "tags": []
          },
          "execution_count": 4
        }
      ]
    },
    {
      "cell_type": "code",
      "metadata": {
        "id": "ZHMzQBXtUuRs",
        "colab_type": "code",
        "colab": {}
      },
      "source": [
        "!wget -q https://storage.googleapis.com/sara-cloud-ml/wine_data.csv"
      ],
      "execution_count": 0,
      "outputs": []
    },
    {
      "cell_type": "code",
      "metadata": {
        "id": "uhChR6KJVP2k",
        "colab_type": "code",
        "colab": {
          "base_uri": "https://localhost:8080/",
          "height": 286
        },
        "outputId": "43c13506-4019-4d19-fa53-2446481c9a57"
      },
      "source": [
        "data = pd.read_csv(\"wine_data.csv\")\n",
        "data.info()"
      ],
      "execution_count": 6,
      "outputs": [
        {
          "output_type": "stream",
          "text": [
            "<class 'pandas.core.frame.DataFrame'>\n",
            "RangeIndex: 150929 entries, 0 to 150928\n",
            "Data columns (total 11 columns):\n",
            "Unnamed: 0     150929 non-null int64\n",
            "country        150924 non-null object\n",
            "description    150929 non-null object\n",
            "designation    105195 non-null object\n",
            "points         150929 non-null int64\n",
            "price          137234 non-null float64\n",
            "province       150924 non-null object\n",
            "region_1       125870 non-null object\n",
            "region_2       60953 non-null object\n",
            "variety        150929 non-null object\n",
            "winery         150929 non-null object\n",
            "dtypes: float64(1), int64(2), object(8)\n",
            "memory usage: 12.7+ MB\n"
          ],
          "name": "stdout"
        }
      ]
    },
    {
      "cell_type": "code",
      "metadata": {
        "id": "1evBYDy6V7wD",
        "colab_type": "code",
        "colab": {
          "base_uri": "https://localhost:8080/",
          "height": 551
        },
        "outputId": "2fbf30ed-9887-4f4c-e649-9406fc5f8332"
      },
      "source": [
        "data.head()"
      ],
      "execution_count": 7,
      "outputs": [
        {
          "output_type": "execute_result",
          "data": {
            "text/html": [
              "<div>\n",
              "<style scoped>\n",
              "    .dataframe tbody tr th:only-of-type {\n",
              "        vertical-align: middle;\n",
              "    }\n",
              "\n",
              "    .dataframe tbody tr th {\n",
              "        vertical-align: top;\n",
              "    }\n",
              "\n",
              "    .dataframe thead th {\n",
              "        text-align: right;\n",
              "    }\n",
              "</style>\n",
              "<table border=\"1\" class=\"dataframe\">\n",
              "  <thead>\n",
              "    <tr style=\"text-align: right;\">\n",
              "      <th></th>\n",
              "      <th>Unnamed: 0</th>\n",
              "      <th>country</th>\n",
              "      <th>description</th>\n",
              "      <th>designation</th>\n",
              "      <th>points</th>\n",
              "      <th>price</th>\n",
              "      <th>province</th>\n",
              "      <th>region_1</th>\n",
              "      <th>region_2</th>\n",
              "      <th>variety</th>\n",
              "      <th>winery</th>\n",
              "    </tr>\n",
              "  </thead>\n",
              "  <tbody>\n",
              "    <tr>\n",
              "      <th>0</th>\n",
              "      <td>0</td>\n",
              "      <td>US</td>\n",
              "      <td>This tremendous 100% varietal wine hails from ...</td>\n",
              "      <td>Martha's Vineyard</td>\n",
              "      <td>96</td>\n",
              "      <td>235.0</td>\n",
              "      <td>California</td>\n",
              "      <td>Napa Valley</td>\n",
              "      <td>Napa</td>\n",
              "      <td>Cabernet Sauvignon</td>\n",
              "      <td>Heitz</td>\n",
              "    </tr>\n",
              "    <tr>\n",
              "      <th>1</th>\n",
              "      <td>1</td>\n",
              "      <td>Spain</td>\n",
              "      <td>Ripe aromas of fig, blackberry and cassis are ...</td>\n",
              "      <td>Carodorum Selección Especial Reserva</td>\n",
              "      <td>96</td>\n",
              "      <td>110.0</td>\n",
              "      <td>Northern Spain</td>\n",
              "      <td>Toro</td>\n",
              "      <td>NaN</td>\n",
              "      <td>Tinta de Toro</td>\n",
              "      <td>Bodega Carmen Rodríguez</td>\n",
              "    </tr>\n",
              "    <tr>\n",
              "      <th>2</th>\n",
              "      <td>2</td>\n",
              "      <td>US</td>\n",
              "      <td>Mac Watson honors the memory of a wine once ma...</td>\n",
              "      <td>Special Selected Late Harvest</td>\n",
              "      <td>96</td>\n",
              "      <td>90.0</td>\n",
              "      <td>California</td>\n",
              "      <td>Knights Valley</td>\n",
              "      <td>Sonoma</td>\n",
              "      <td>Sauvignon Blanc</td>\n",
              "      <td>Macauley</td>\n",
              "    </tr>\n",
              "    <tr>\n",
              "      <th>3</th>\n",
              "      <td>3</td>\n",
              "      <td>US</td>\n",
              "      <td>This spent 20 months in 30% new French oak, an...</td>\n",
              "      <td>Reserve</td>\n",
              "      <td>96</td>\n",
              "      <td>65.0</td>\n",
              "      <td>Oregon</td>\n",
              "      <td>Willamette Valley</td>\n",
              "      <td>Willamette Valley</td>\n",
              "      <td>Pinot Noir</td>\n",
              "      <td>Ponzi</td>\n",
              "    </tr>\n",
              "    <tr>\n",
              "      <th>4</th>\n",
              "      <td>4</td>\n",
              "      <td>France</td>\n",
              "      <td>This is the top wine from La Bégude, named aft...</td>\n",
              "      <td>La Brûlade</td>\n",
              "      <td>95</td>\n",
              "      <td>66.0</td>\n",
              "      <td>Provence</td>\n",
              "      <td>Bandol</td>\n",
              "      <td>NaN</td>\n",
              "      <td>Provence red blend</td>\n",
              "      <td>Domaine de la Bégude</td>\n",
              "    </tr>\n",
              "  </tbody>\n",
              "</table>\n",
              "</div>"
            ],
            "text/plain": [
              "   Unnamed: 0 country  ...             variety                   winery\n",
              "0           0      US  ...  Cabernet Sauvignon                    Heitz\n",
              "1           1   Spain  ...       Tinta de Toro  Bodega Carmen Rodríguez\n",
              "2           2      US  ...     Sauvignon Blanc                 Macauley\n",
              "3           3      US  ...          Pinot Noir                    Ponzi\n",
              "4           4  France  ...  Provence red blend     Domaine de la Bégude\n",
              "\n",
              "[5 rows x 11 columns]"
            ]
          },
          "metadata": {
            "tags": []
          },
          "execution_count": 7
        }
      ]
    },
    {
      "cell_type": "code",
      "metadata": {
        "id": "IwiUtpZ5WIyC",
        "colab_type": "code",
        "colab": {
          "base_uri": "https://localhost:8080/",
          "height": 34
        },
        "outputId": "8be16e88-3ee1-494a-89da-e78c4535725c"
      },
      "source": [
        "np.unique(data['variety']).shape"
      ],
      "execution_count": 8,
      "outputs": [
        {
          "output_type": "execute_result",
          "data": {
            "text/plain": [
              "(632,)"
            ]
          },
          "metadata": {
            "tags": []
          },
          "execution_count": 8
        }
      ]
    },
    {
      "cell_type": "code",
      "metadata": {
        "id": "kYvZwlczaIai",
        "colab_type": "code",
        "colab": {
          "base_uri": "https://localhost:8080/",
          "height": 34
        },
        "outputId": "9cfa14f1-ade8-4ce9-d2d4-34cfc622f562"
      },
      "source": [
        "data.dropna(subset=['country', 'price'], inplace=True)\n",
        "data.shape"
      ],
      "execution_count": 9,
      "outputs": [
        {
          "output_type": "execute_result",
          "data": {
            "text/plain": [
              "(137229, 11)"
            ]
          },
          "metadata": {
            "tags": []
          },
          "execution_count": 9
        }
      ]
    },
    {
      "cell_type": "code",
      "metadata": {
        "id": "ZWNaP1rlb-Xt",
        "colab_type": "code",
        "colab": {
          "base_uri": "https://localhost:8080/",
          "height": 34
        },
        "outputId": "4f356464-5f9d-4a5c-97c1-5dd8bfcc2da1"
      },
      "source": [
        "value_counts = data['variety'].value_counts()\n",
        "to_remove = value_counts[value_counts <= 500].index\n",
        "data.replace(to_remove, np.nan, inplace=True)\n",
        "data.dropna(subset=['variety'], inplace=True)\n",
        "data.shape"
      ],
      "execution_count": 10,
      "outputs": [
        {
          "output_type": "execute_result",
          "data": {
            "text/plain": [
              "(119558, 11)"
            ]
          },
          "metadata": {
            "tags": []
          },
          "execution_count": 10
        }
      ]
    },
    {
      "cell_type": "markdown",
      "metadata": {
        "id": "ElT5MV7jVnvL",
        "colab_type": "text"
      },
      "source": [
        "## Split data into a training and testing set and extract the features and labels"
      ]
    },
    {
      "cell_type": "code",
      "metadata": {
        "id": "rAYjtNe7VneG",
        "colab_type": "code",
        "colab": {
          "base_uri": "https://localhost:8080/",
          "height": 50
        },
        "outputId": "df0e6658-16eb-4618-b398-77ba3180df3a"
      },
      "source": [
        "train_size = int(len(data) * .8)\n",
        "print (\"Train size: %d\" % train_size)\n",
        "print (\"Test size: %d\" % (len(data) - train_size))\n",
        "\n",
        "#Train features\n",
        "description_train = data['description'][:train_size]\n",
        "variety_train = data['variety'][:train_size]\n",
        "\n",
        "#Train label\n",
        "labels_train = data['price'][:train_size]\n",
        "\n",
        "#Test features\n",
        "description_test = data['description'][train_size:]\n",
        "variety_test = data['variety'][train_size:]\n",
        "\n",
        "#Test label\n",
        "labels_test = data['price'][train_size:]"
      ],
      "execution_count": 35,
      "outputs": [
        {
          "output_type": "stream",
          "text": [
            "Train size: 95646\n",
            "Test size: 23912\n"
          ],
          "name": "stdout"
        }
      ]
    },
    {
      "cell_type": "markdown",
      "metadata": {
        "id": "_ZOiLHc6YATR",
        "colab_type": "text"
      },
      "source": [
        "## Feature 1: Wine description - BoW"
      ]
    },
    {
      "cell_type": "code",
      "metadata": {
        "id": "IVTJPxo0X_nT",
        "colab_type": "code",
        "colab": {}
      },
      "source": [
        "vocab_size = 12000\n",
        "tokenize = keras.preprocessing.text.Tokenizer(num_words=vocab_size, char_level=False)"
      ],
      "execution_count": 0,
      "outputs": []
    },
    {
      "cell_type": "code",
      "metadata": {
        "id": "mKqhoEMYVToI",
        "colab_type": "code",
        "colab": {}
      },
      "source": [
        "tokenize.fit_on_texts(description_train)"
      ],
      "execution_count": 0,
      "outputs": []
    },
    {
      "cell_type": "code",
      "metadata": {
        "id": "HPDtVIOpZBjO",
        "colab_type": "code",
        "colab": {}
      },
      "source": [
        "description_bow_train = tokenize.texts_to_matrix(description_train)\n",
        "description_bow_test = tokenize.texts_to_matrix(description_test)\n"
      ],
      "execution_count": 0,
      "outputs": []
    },
    {
      "cell_type": "code",
      "metadata": {
        "id": "6_oA7FOem51a",
        "colab_type": "code",
        "colab": {}
      },
      "source": [
        "# #memory optimization\n",
        "# del description_bow_train\n",
        "# del description_bow_test"
      ],
      "execution_count": 0,
      "outputs": []
    },
    {
      "cell_type": "markdown",
      "metadata": {
        "id": "4k5g0Nmego_H",
        "colab_type": "text"
      },
      "source": [
        "## Wide feature 2: one-hot vector of variety categories"
      ]
    },
    {
      "cell_type": "code",
      "metadata": {
        "id": "xSaugoQGZVlT",
        "colab_type": "code",
        "colab": {}
      },
      "source": [
        "encoder = LabelEncoder()\n",
        "encoder.fit(variety_train)\n",
        "variety_train = encoder.transform(variety_train)\n",
        "variety_test = encoder.transform(variety_test)\n",
        "num_classes = np.max(variety_train) + 1"
      ],
      "execution_count": 0,
      "outputs": []
    },
    {
      "cell_type": "code",
      "metadata": {
        "id": "Iw-0gGaUg-cq",
        "colab_type": "code",
        "colab": {}
      },
      "source": [
        "# Convert labels to one hot\n",
        "variety_train = keras.utils.to_categorical(variety_train, num_classes)\n",
        "variety_test = keras.utils.to_categorical(variety_test, num_classes)"
      ],
      "execution_count": 0,
      "outputs": []
    },
    {
      "cell_type": "markdown",
      "metadata": {
        "id": "jf3eN9EkhSYN",
        "colab_type": "text"
      },
      "source": [
        "## Define our wide model with the functional API"
      ]
    },
    {
      "cell_type": "code",
      "metadata": {
        "id": "nvBagNPohSKR",
        "colab_type": "code",
        "colab": {}
      },
      "source": [
        "# Define our wide model with the functional API\n",
        "bow_inputs = layers.Input(shape=(vocab_size,))\n",
        "variety_inputs = layers.Input(shape=(num_classes,))\n",
        "merged_layer = layers.concatenate([bow_inputs, variety_inputs])\n",
        "merged_layer = layers.Dense(256, activation='relu')(merged_layer)\n",
        "predictions = layers.Dense(1)(merged_layer)\n",
        "wide_model = keras.Model(inputs=[bow_inputs, variety_inputs], outputs=predictions)"
      ],
      "execution_count": 0,
      "outputs": []
    },
    {
      "cell_type": "code",
      "metadata": {
        "id": "1cTYfOnkhBVp",
        "colab_type": "code",
        "colab": {
          "base_uri": "https://localhost:8080/",
          "height": 353
        },
        "outputId": "e03ce3c7-8e8f-4c8d-ce23-12c16ac3c9ed"
      },
      "source": [
        "\n",
        "wide_model.compile(loss='mse', optimizer='adam', metrics=['accuracy'])\n",
        "print(wide_model.summary())"
      ],
      "execution_count": 43,
      "outputs": [
        {
          "output_type": "stream",
          "text": [
            "Model: \"model_3\"\n",
            "__________________________________________________________________________________________________\n",
            "Layer (type)                    Output Shape         Param #     Connected to                     \n",
            "==================================================================================================\n",
            "input_4 (InputLayer)            [(None, 12000)]      0                                            \n",
            "__________________________________________________________________________________________________\n",
            "input_5 (InputLayer)            [(None, 40)]         0                                            \n",
            "__________________________________________________________________________________________________\n",
            "concatenate_2 (Concatenate)     (None, 12040)        0           input_4[0][0]                    \n",
            "                                                                 input_5[0][0]                    \n",
            "__________________________________________________________________________________________________\n",
            "dense_4 (Dense)                 (None, 256)          3082496     concatenate_2[0][0]              \n",
            "__________________________________________________________________________________________________\n",
            "dense_5 (Dense)                 (None, 1)            257         dense_4[0][0]                    \n",
            "==================================================================================================\n",
            "Total params: 3,082,753\n",
            "Trainable params: 3,082,753\n",
            "Non-trainable params: 0\n",
            "__________________________________________________________________________________________________\n",
            "None\n"
          ],
          "name": "stdout"
        }
      ]
    },
    {
      "cell_type": "code",
      "metadata": {
        "id": "8fDhzndmjgyT",
        "colab_type": "code",
        "colab": {}
      },
      "source": [
        "train_embed = tokenize.texts_to_sequences(description_train)\n",
        "test_embed = tokenize.texts_to_sequences(description_test)"
      ],
      "execution_count": 0,
      "outputs": []
    },
    {
      "cell_type": "code",
      "metadata": {
        "id": "NLRo3heEneM-",
        "colab_type": "code",
        "colab": {}
      },
      "source": [
        "max_seq_length = 170\n",
        "train_embed = keras.preprocessing.sequence.pad_sequences(\n",
        "    train_embed, maxlen=max_seq_length, padding=\"post\")\n",
        "test_embed = keras.preprocessing.sequence.pad_sequences(\n",
        "    test_embed, maxlen=max_seq_length, padding=\"post\")"
      ],
      "execution_count": 0,
      "outputs": []
    },
    {
      "cell_type": "code",
      "metadata": {
        "id": "wXie9cjXPnh8",
        "colab_type": "code",
        "colab": {
          "base_uri": "https://localhost:8080/",
          "height": 286
        },
        "outputId": "eccf4d66-7ce5-4a7f-c357-26fd64c3de31"
      },
      "source": [
        "from collections import Counter\n",
        "import seaborn as sns\n",
        "tmp = [len(i.split()) for i in description_train]\n",
        "print (max(tmp))\n",
        "sns.countplot(tmp)\n",
        "del tmp"
      ],
      "execution_count": 22,
      "outputs": [
        {
          "output_type": "stream",
          "text": [
            "135\n"
          ],
          "name": "stdout"
        },
        {
          "output_type": "display_data",
          "data": {
            "image/png": "[encoded data removed]",
            "text/plain": [
              "<Figure size 432x288 with 1 Axes>"
            ]
          },
          "metadata": {
            "tags": []
          }
        }
      ]
    },
    {
      "cell_type": "code",
      "metadata": {
        "id": "0z2dgEsLPQwc",
        "colab_type": "code",
        "colab": {
          "base_uri": "https://localhost:8080/",
          "height": 87
        },
        "outputId": "054a8757-646f-4b47-a8ad-84c5c47fac9f"
      },
      "source": [
        "deep_inputs = layers.Input(shape=(max_seq_length,))\n",
        "embedding = layers.Embedding(vocab_size, 8,   input_length=max_seq_length)(deep_inputs)\n",
        "embedding = layers.Flatten()(embedding)"
      ],
      "execution_count": 23,
      "outputs": [
        {
          "output_type": "stream",
          "text": [
            "W0818 15:32:31.491731 140090847864704 deprecation.py:506] From /usr/local/lib/python3.6/dist-packages/tensorflow/python/keras/initializers.py:119: calling RandomUniform.__init__ (from tensorflow.python.ops.init_ops) with dtype is deprecated and will be removed in a future version.\n",
            "Instructions for updating:\n",
            "Call initializer instance with the dtype argument instead of passing it to the constructor\n"
          ],
          "name": "stderr"
        }
      ]
    },
    {
      "cell_type": "code",
      "metadata": {
        "id": "_F1cOy2VSXTY",
        "colab_type": "code",
        "colab": {
          "base_uri": "https://localhost:8080/",
          "height": 302
        },
        "outputId": "949bbd41-b3eb-432b-b203-6216d0eee105"
      },
      "source": [
        "embed_out = layers.Dense(1)(embedding)\n",
        "deep_model = keras.Model(inputs=deep_inputs, outputs=embed_out)\n",
        "print(deep_model.summary())"
      ],
      "execution_count": 24,
      "outputs": [
        {
          "output_type": "stream",
          "text": [
            "Model: \"model_1\"\n",
            "_________________________________________________________________\n",
            "Layer (type)                 Output Shape              Param #   \n",
            "=================================================================\n",
            "input_3 (InputLayer)         [(None, 170)]             0         \n",
            "_________________________________________________________________\n",
            "embedding (Embedding)        (None, 170, 8)            96000     \n",
            "_________________________________________________________________\n",
            "flatten (Flatten)            (None, 1360)              0         \n",
            "_________________________________________________________________\n",
            "dense_2 (Dense)              (None, 1)                 1361      \n",
            "=================================================================\n",
            "Total params: 97,361\n",
            "Trainable params: 97,361\n",
            "Non-trainable params: 0\n",
            "_________________________________________________________________\n",
            "None\n"
          ],
          "name": "stdout"
        }
      ]
    },
    {
      "cell_type": "code",
      "metadata": {
        "id": "evF5p_gmTd38",
        "colab_type": "code",
        "colab": {}
      },
      "source": [
        "\n",
        "deep_model.compile(loss='mse',\n",
        "                       optimizer='adam',\n",
        "                       metrics=['accuracy'])"
      ],
      "execution_count": 0,
      "outputs": []
    },
    {
      "cell_type": "code",
      "metadata": {
        "id": "p6G4W3NOUCWc",
        "colab_type": "code",
        "colab": {
          "base_uri": "https://localhost:8080/",
          "height": 571
        },
        "outputId": "b84e1fcc-b017-46c1-eaca-c70fdf4d260e"
      },
      "source": [
        "# Combine wide and deep into one model\n",
        "merged_out = layers.concatenate([wide_model.output, deep_model.output])\n",
        "merged_out = layers.Dense(1)(merged_out)\n",
        "combined_model = keras.Model(wide_model.input + [deep_model.input], merged_out)\n",
        "print(combined_model.summary())"
      ],
      "execution_count": 26,
      "outputs": [
        {
          "output_type": "stream",
          "text": [
            "Model: \"model_2\"\n",
            "__________________________________________________________________________________________________\n",
            "Layer (type)                    Output Shape         Param #     Connected to                     \n",
            "==================================================================================================\n",
            "input_1 (InputLayer)            [(None, 12000)]      0                                            \n",
            "__________________________________________________________________________________________________\n",
            "input_2 (InputLayer)            [(None, 40)]         0                                            \n",
            "__________________________________________________________________________________________________\n",
            "input_3 (InputLayer)            [(None, 170)]        0                                            \n",
            "__________________________________________________________________________________________________\n",
            "concatenate (Concatenate)       (None, 12040)        0           input_1[0][0]                    \n",
            "                                                                 input_2[0][0]                    \n",
            "__________________________________________________________________________________________________\n",
            "embedding (Embedding)           (None, 170, 8)       96000       input_3[0][0]                    \n",
            "__________________________________________________________________________________________________\n",
            "dense (Dense)                   (None, 256)          3082496     concatenate[0][0]                \n",
            "__________________________________________________________________________________________________\n",
            "flatten (Flatten)               (None, 1360)         0           embedding[0][0]                  \n",
            "__________________________________________________________________________________________________\n",
            "dense_1 (Dense)                 (None, 1)            257         dense[0][0]                      \n",
            "__________________________________________________________________________________________________\n",
            "dense_2 (Dense)                 (None, 1)            1361        flatten[0][0]                    \n",
            "__________________________________________________________________________________________________\n",
            "concatenate_1 (Concatenate)     (None, 2)            0           dense_1[0][0]                    \n",
            "                                                                 dense_2[0][0]                    \n",
            "__________________________________________________________________________________________________\n",
            "dense_3 (Dense)                 (None, 1)            3           concatenate_1[0][0]              \n",
            "==================================================================================================\n",
            "Total params: 3,180,117\n",
            "Trainable params: 3,180,117\n",
            "Non-trainable params: 0\n",
            "__________________________________________________________________________________________________\n",
            "None\n"
          ],
          "name": "stdout"
        }
      ]
    },
    {
      "cell_type": "code",
      "metadata": {
        "id": "e18tJL9SUoqR",
        "colab_type": "code",
        "colab": {}
      },
      "source": [
        "combined_model.compile(loss='mse',\n",
        "                       optimizer='adam',\n",
        "                       metrics=['accuracy'])"
      ],
      "execution_count": 0,
      "outputs": []
    },
    {
      "cell_type": "code",
      "metadata": {
        "id": "gIcFPVUzVEUX",
        "colab_type": "code",
        "colab": {
          "base_uri": "https://localhost:8080/",
          "height": 370
        },
        "outputId": "13f50fd7-95de-4078-f478-dd5219bda440"
      },
      "source": [
        "# Run training\n",
        "combined_model.fit([description_bow_train, variety_train] + [train_embed], \n",
        "                   labels_train, epochs=10, batch_size=128)"
      ],
      "execution_count": 28,
      "outputs": [
        {
          "output_type": "stream",
          "text": [
            "Epoch 1/10\n",
            "95646/95646 [==============================] - 10s 101us/sample - loss: 1242.5921 - acc: 0.0000e+00\n",
            "Epoch 2/10\n",
            "95646/95646 [==============================] - 9s 92us/sample - loss: 976.7146 - acc: 0.0000e+00\n",
            "Epoch 3/10\n",
            "95646/95646 [==============================] - 9s 93us/sample - loss: 827.6356 - acc: 0.0000e+00\n",
            "Epoch 4/10\n",
            "95646/95646 [==============================] - 10s 100us/sample - loss: 689.7040 - acc: 0.0000e+00\n",
            "Epoch 5/10\n",
            "95646/95646 [==============================] - 9s 95us/sample - loss: 562.2914 - acc: 0.0000e+00\n",
            "Epoch 6/10\n",
            "95646/95646 [==============================] - 9s 97us/sample - loss: 451.4071 - acc: 0.0000e+00\n",
            "Epoch 7/10\n",
            "95646/95646 [==============================] - 9s 96us/sample - loss: 355.5279 - acc: 0.0000e+00\n",
            "Epoch 8/10\n",
            "95646/95646 [==============================] - 9s 96us/sample - loss: 276.5166 - acc: 0.0000e+00\n",
            "Epoch 9/10\n",
            "95646/95646 [==============================] - 9s 97us/sample - loss: 214.4856 - acc: 0.0000e+00\n",
            "Epoch 10/10\n",
            "95646/95646 [==============================] - 9s 96us/sample - loss: 164.2757 - acc: 0.0000e+00\n"
          ],
          "name": "stdout"
        },
        {
          "output_type": "execute_result",
          "data": {
            "text/plain": [
              "<tensorflow.python.keras.callbacks.History at 0x7f69177007f0>"
            ]
          },
          "metadata": {
            "tags": []
          },
          "execution_count": 28
        }
      ]
    },
    {
      "cell_type": "code",
      "metadata": {
        "id": "9Bc64fklV6C3",
        "colab_type": "code",
        "colab": {
          "base_uri": "https://localhost:8080/",
          "height": 34
        },
        "outputId": "ccd7645a-0e8b-42f9-8683-450d3c077329"
      },
      "source": [
        "description_bow_train.shape"
      ],
      "execution_count": 29,
      "outputs": [
        {
          "output_type": "execute_result",
          "data": {
            "text/plain": [
              "(95646, 12000)"
            ]
          },
          "metadata": {
            "tags": []
          },
          "execution_count": 29
        }
      ]
    },
    {
      "cell_type": "code",
      "metadata": {
        "id": "j-4WJKVYWN_A",
        "colab_type": "code",
        "colab": {
          "base_uri": "https://localhost:8080/",
          "height": 34
        },
        "outputId": "24413ae7-aa38-4d0e-de8f-5d67471c1443"
      },
      "source": [
        "variety_train.shape"
      ],
      "execution_count": 30,
      "outputs": [
        {
          "output_type": "execute_result",
          "data": {
            "text/plain": [
              "(95646, 40)"
            ]
          },
          "metadata": {
            "tags": []
          },
          "execution_count": 30
        }
      ]
    },
    {
      "cell_type": "code",
      "metadata": {
        "id": "MzDZX1ZZWQ7u",
        "colab_type": "code",
        "colab": {
          "base_uri": "https://localhost:8080/",
          "height": 34
        },
        "outputId": "f59285ac-24e5-4dfe-e572-85be9d66b5b4"
      },
      "source": [
        "train_embed.shape"
      ],
      "execution_count": 31,
      "outputs": [
        {
          "output_type": "execute_result",
          "data": {
            "text/plain": [
              "(95646, 170)"
            ]
          },
          "metadata": {
            "tags": []
          },
          "execution_count": 31
        }
      ]
    },
    {
      "cell_type": "code",
      "metadata": {
        "id": "AaH7gjaZWS-G",
        "colab_type": "code",
        "colab": {
          "base_uri": "https://localhost:8080/",
          "height": 50
        },
        "outputId": "933ba0cc-e843-4f10-fb35-e05b603f3434"
      },
      "source": [
        "\n",
        "combined_model.evaluate([description_bow_test, variety_test] + [test_embed], labels_test, batch_size=128)"
      ],
      "execution_count": 46,
      "outputs": [
        {
          "output_type": "stream",
          "text": [
            "23912/23912 [==============================] - 2s 73us/sample - loss: 365.6704 - acc: 0.0000e+00\n"
          ],
          "name": "stdout"
        },
        {
          "output_type": "execute_result",
          "data": {
            "text/plain": [
              "[365.6704425396988, 0.0]"
            ]
          },
          "metadata": {
            "tags": []
          },
          "execution_count": 46
        }
      ]
    },
    {
      "cell_type": "code",
      "metadata": {
        "id": "cdU0JzdDXj7w",
        "colab_type": "code",
        "colab": {}
      },
      "source": [
        "# Generate predictions\n",
        "predictions = combined_model.predict([description_bow_test, variety_test] + [test_embed])"
      ],
      "execution_count": 0,
      "outputs": []
    },
    {
      "cell_type": "code",
      "metadata": {
        "id": "-PM1Y-AFYIa4",
        "colab_type": "code",
        "colab": {
          "base_uri": "https://localhost:8080/",
          "height": 1000
        },
        "outputId": "f6b696a5-5d14-4cf9-a08c-1d42c41a5eee"
      },
      "source": [
        "# Compare predictions with actual values for the first few items in our test dataset\n",
        "num_predictions = 40\n",
        "diff = 0\n",
        "\n",
        "for i in range(num_predictions):\n",
        "    val = predictions[i]\n",
        "    print(description_test.iloc[i])\n",
        "    print('Predicted: ', val[0], 'Actual: ', labels_test.iloc[i], '\\n')\n",
        "    diff += abs(val[0] - labels_test.iloc[i])"
      ],
      "execution_count": 48,
      "outputs": [
        {
          "output_type": "stream",
          "text": [
            "As happens with Chenin wines, this has closed up, showing only marzipan flavors without the fruit. It's a stage, and the wine needs another 2–3 years before realizing its mature potential. Screwcap.\n",
            "Predicted:  14.582488 Actual:  16.0 \n",
            "\n",
            "H3 is Columbia Crest's line of wines from the Horse Heaven Hills AVA—the winery's home turf—and the wines seem to have a bit more cut and flair than the slightly less expensive Columbia Valley bottlings. Here you will find a more complex blend of fruits—starfruit, apple, melon and a hint of banana—and less focus on butter and toast. In other words, more of a food and sipping wine.\n",
            "Predicted:  13.596732 Actual:  15.0 \n",
            "\n",
            "Very ripe and fruity in the modern style, almost too strong in blackberry jam, black currant and oak flavors that are not particularly subtle or delicate, although the wine is thoroughly dry. The tannins are significant, but negotiable. The suggestion is ageability. Give it 2–4 years and try again.\n",
            "Predicted:  45.12752 Actual:  45.0 \n",
            "\n",
            "Notes of olive and bay leaves add some interesting complexity to the nose of this blend, otherwise dominated by typical red berry flavors. Ripe and rich on the palate with medium acidity and lighter tannins. The finish, dominated by beautiful notes of wild strawberries, is long and satisfying.\n",
            "Predicted:  39.34271 Actual:  45.0 \n",
            "\n",
            "Some green tannins and stemmy scents can be found in the nose and tasted in the finish, but this has good concentration and stiff black fruits as well. Licorice and vanilla are woven into a wine that is still pulling itself together.\n",
            "Predicted:  33.10306 Actual:  30.0 \n",
            "\n",
            "A lovely, rich Sauvignon Blanc that benefits from full ripeness. No trace of green in the Meyer lemon, lime, vanilla and spice flavors that finish so clean and vibrant.\n",
            "Predicted:  19.576143 Actual:  22.0 \n",
            "\n",
            "Bright and sweetly fruity, with blackberry and black cherry fruit matched to vanilla-flavored oak. A bit high-toned, soft and fresh, with lots of immediate drinking appeal.\n",
            "Predicted:  31.426737 Actual:  29.0 \n",
            "\n",
            "This is a smooth, easy-drinking, chocolaty Cabernet. The ripe red fruit is laced with streaks of black olive, mushroom and loam. Barrel aging in both American and French oak (half new) brings in coffee and chocolate.\n",
            "Predicted:  28.344954 Actual:  29.0 \n",
            "\n",
            "Nice black cherry, cassis and earthy rubber aromas form a familiar, friendly type of Malbec nose, while the palate is juicy and lifted by acidity. Flavors of blackberry and chocolate are solid and under control, and the finish is mildly peppered and consistent with what comes before it. Drink now through 2011.\n",
            "Predicted:  11.725938 Actual:  15.0 \n",
            "\n",
            "Here's a gorgeous expression of Pinot Grigio from Alto Adige with crisp aromas of stone fruit and wild flowers backed by a brilliant, luminous appearance and a richly creamy mouthfeel. This shows the best of what this popular white variety can do.\n",
            "Predicted:  19.261332 Actual:  21.0 \n",
            "\n",
            "A very tasty and tasteful Zinfandel, dry and balanced, that offers plenty of classic Dry Creek personality. With briary, wild berry, currant and pepper flavors, its tannins are rich and complicated. A lovely wine to drink with roasts and stews.\n",
            "Predicted:  26.392218 Actual:  25.0 \n",
            "\n",
            "Spiced gumdrop and rooty sweetness carry the massive nose to a big but balky palate of baked, roasted black fruits, cassis and tire rubber. There's sweetness, beef, marshmallow and burn along with tannic weight and grab. A lot of power; needs more touch. Believe it or not, Medalla Real Cabernet is now a 73,000-case product.\n",
            "Predicted:  22.328768 Actual:  20.0 \n",
            "\n",
            "Spring Valley Vineyard, now being dramatically expanded by new owners Ste. Michelle Wine Estates, sits in a unique spot in the Walla Walla appellation. Now, if only the powers-that-be could make these wines at moderate levels of alcohol. Yes, this is delicious. Loaded with raspberry jam, peppery spice, hints of caramel. But the alcohol blows out the detail. Please—pull it back.\n",
            "Predicted:  53.65641 Actual:  50.0 \n",
            "\n",
            "Shows serious chops via crisp, pungent aromas of citrus and nettles. The palate is fresh, clean and citric, with flavors of passionfruit, lemon, white grapefruit and minerality. Keeps its form from start to finish. A true Casablanca SB for a good price; drink this spring and summer.\n",
            "Predicted:  7.134428 Actual:  12.0 \n",
            "\n",
            "Nutty, toasty aromas open a wine that has yellow fruits, strong ripe peach flavors, some green plum acidity. The texture brings out the toast, flavored with toffee, the aftertaste full of creamy acidity.\n",
            "Predicted:  15.266234 Actual:  19.0 \n",
            "\n",
            "A strongly flavored Cabernet, powerful in blackberry, currant and cedar flavors, that impresses for sheer volume, although it is drinkable now with a brief decant. It's a bit rude now, but could calm down and develop some bottle sophistication in a few years.\n",
            "Predicted:  29.034163 Actual:  25.0 \n",
            "\n",
            "This is a 50-50 blend of estate-grown Merlot and Cabernet Sauvignon, aged in neutral oak. Dark, plush, well-ripened fruit is the focus of a wine still a bit stiff and steely. It's classic in the way a Bordeaux is classic, firm and confidently blended.\n",
            "Predicted:  26.286617 Actual:  16.0 \n",
            "\n",
            "This is the best Cab from Two Vines to date. It's got real concentration and fruit flavor, enhanced with the addition of 11% Cab Franc and 7% Syrah in the blend. Berries, cherries, cassis, plums, coffee and smoke filter through the palate, with just a little bite to the tannins. Very impressive.\n",
            "Predicted:  12.759868 Actual:  8.0 \n",
            "\n",
            "Pronounced garrigue notes dominate the nose here—rosemary, menthol and lavender—with soft notes of red fruit in the background. More cherry and raspberry show themselves in the mouth. Medium weight with a gripping structure and medium-length finish.\n",
            "Predicted:  11.298463 Actual:  15.0 \n",
            "\n",
            "A nice Zinfandel that's dry and fruity, with briary, brambly blackberry, tobacco and spice flavors. It's a clean, vibrant Zin, but a very tough, tannic one. Needs ultrarich fare to crack through the astringency.\n",
            "Predicted:  33.43217 Actual:  38.0 \n",
            "\n",
            "A very fine effort, with classic cassis and black cherry in the fruit core, but also offering interesting details of bark, earth and herb. The wine lingers, perhaps due to excellent natural acidity, and without overpowering the palate it keeps tantalizing it with nuances of moist earth and wet rock.\n",
            "Predicted:  23.695885 Actual:  22.0 \n",
            "\n",
            "A dusty-textured wine, its fruit like grains scattered over the surface of a fresh crisp structure. The freshness is palpable and so is the depth of flavor. A food-friendly wine.\n",
            "Predicted:  33.87588 Actual:  37.0 \n",
            "\n",
            "Sourced entirely from Les Collines, this perfectly expresses the house style—scents of strawberry jam, hints of pepper, and flavors that seem to focus on rocky minerality. An austere yet thrilling wine, almost like a Chinon, though this is Syrah, and not Cabernet Franc.\n",
            "Predicted:  41.353947 Actual:  40.0 \n",
            "\n",
            "Here's a wine that opens beautifully to all your senses. It boasts a dense, vibrant ruby color and delivers bright aromas of cherry, blackberry and bitter cranberry. In the mouth, however, this wine is softer and plusher than you'd expect. Sure, that trademark Barbera acidity is present, but its natural sharpness has been dulled.\n",
            "Predicted:  84.1471 Actual:  90.0 \n",
            "\n",
            "Aged in neutral oak and 100% varietal, this is a fine value. There is great fruit flavor—raspberry and Bing cherry—supported with natural acidity and just a hint of chocolate. This could be a Dry Creek Zinfandel, in terms of its bright berry fruit and lively acidity.\n",
            "Predicted:  13.199268 Actual:  16.0 \n",
            "\n",
            "A very pretty Merlot, and a good price for the elegant quality. It's dry and tannic, showing the Clos du Val style of controlled, somewhat aloof ripeness. There's a rich, attractive core of black cherry fruit. Will develop for a few years, but it's really best now, with a brief decant.\n",
            "Predicted:  25.999899 Actual:  26.0 \n",
            "\n",
            "Chocolate, coffee and espresso come to life thanks to the solid base of natural fruit that keeps the wine lively and fresh. Fruit and oak-related aromas work well together and give the wine brightness, softness and a velvety texture.\n",
            "Predicted:  15.659878 Actual:  19.0 \n",
            "\n",
            "Another fine value from Kirkland, the Costco house brand. Vineyard sources are first rate, mostly Wahluke Slope, and the wine has exceptional grip, depth and structure for Merlot at this price point. Cassis, dark plum, black cherry, licorice, espresso and smoke are woven together nicely. Tannins are lush, substantial and quite ripe; they wrap up the wine with a blanket of smoke and tar. A great steak wine.\n",
            "Predicted:  7.519004 Actual:  10.0 \n",
            "\n",
            "A very good Chardonnay, fancy and elegant, although it's a little sharp in the mouth, and lacks a certain hedonistic appeal, especially at this price. Shows dry, oak-inspired flavors of pineapples, green apples and pears, with a firm minerality.\n",
            "Predicted:  49.1573 Actual:  46.0 \n",
            "\n",
            "Representing a good value in top-flight Cabernet, Jim Barry's 2008 The Cover Drive (a cricketing term) features subtle hints of cinnamon, coffee and vanilla layered over blueberry and plum fruit. It's on the full-bodied side, with plush, velvety tannins balanced by crisp acids. Drink now–2018.\n",
            "Predicted:  19.387646 Actual:  18.0 \n",
            "\n",
            "A top value, this full-bodied yet supple Shiraz packs in the flavor, starting with dark, brooding fruit on the nose, developing intensely flavored mixed berries on the palate and finishing warm and long. Drink now.\n",
            "Predicted:  15.3093195 Actual:  19.0 \n",
            "\n",
            "Smooth and sophisticated with rich blackberry and plum aromas backed by oak-driven tones of spice and leather, this is a very rich expression of Barbera (that sees eight months in oak barrels). The overall effect is excellent and the mouthfeel culminates with bright tones of prune and crushed black pepper.\n",
            "Predicted:  28.116018 Actual:  20.0 \n",
            "\n",
            "Crisp red apples and tight fruit skins give this wine a taut, lively character. Just a touch of caramel to broaden the acidity.\n",
            "Predicted:  10.480132 Actual:  18.0 \n",
            "\n",
            "Gold in color, with an ebullient nose of spiced melon and sweet flavors of candied pineapple tinged with white pepper and grapefruit. At 12.5% alcohol and 117 g/L residual sugar, it's rich and sweet without being over the top. Drink now.\n",
            "Predicted:  20.220339 Actual:  19.0 \n",
            "\n",
            "Winemaker Joe Forest has brightened the fruit and livened up the mouthfeel by blending in 20% Grenache. Fresh raspberry flavors are wrapped into the earthier, herbal, lightly chocolaty character of the Syrah. Once-filled French barrels were used.\n",
            "Predicted:  30.24296 Actual:  25.0 \n",
            "\n",
            "It's unfortunate that only 56 cases of this wine were imported, so be sure to snag it when you see it. Intense and powerful on the nose, with attractive forest, licorice, tea leaves and menthol adding complexity to the small red berries and plum skins. The velvety texture and firm structure lead nicely into the mocha-flavored finish, with flecks of white pepper gleaming through on the very end.\n",
            "Predicted:  29.770338 Actual:  37.0 \n",
            "\n",
            "This winery, part of the San Pedro group, is on the right path as its wines have improved in recent vintages. This particular wine marks a high-water point; the nose mixes dry wood notes, leather, herbal berry and even some fine aged cheese. The palate is tight and forceful, with cassis, cherry and cola flavors. Powerful but poised. Drink now through 2012.\n",
            "Predicted:  13.140174 Actual:  23.0 \n",
            "\n",
            "Back on form after the disappointing 2008, Nobilo's Icon deftly combines hints of honey and stone fruit with a leafy overlay of herbal flavors. It's medium bodied, with a finish that's tinged with tobacco leaf. Drink now and over the next 6–9 months.\n",
            "Predicted:  21.003597 Actual:  20.0 \n",
            "\n",
            "Sidewood's consulting winemaker, Nathasha Mooney (who made the still-stunning 1998 E&E; Black Pepper Shiraz while at Barossa Valley Estate), is putting together some excellent wines that also represent good value, including this grapefruit-scented Sauvignon Blanc. This medium-bodied offering is long and intense, blending citrus with minerally spice reminiscent of white pepper.\n",
            "Predicted:  19.289562 Actual:  16.0 \n",
            "\n",
            "This Bordeaux blend shows an interesting range of fruit flavors and textures from the blend, which includes Cabernet Sauvignon, Cabernet Franc, Petit Verdot and Merlot. The flavors tend toward red fruits, as in cherries and red currants, while the tannins are quite strong. Shows an immaturity now that strongly suggests 5–6 years in the cellar.\n",
            "Predicted:  59.551517 Actual:  65.0 \n",
            "\n"
          ],
          "name": "stdout"
        }
      ]
    },
    {
      "cell_type": "code",
      "metadata": {
        "id": "88AsPsEbYNt5",
        "colab_type": "code",
        "colab": {
          "base_uri": "https://localhost:8080/",
          "height": 34
        },
        "outputId": "74335b49-a0e2-4dcf-c18f-0046174049f1"
      },
      "source": [
        "# Compare the average difference between actual price and the model's predicted price\n",
        "print('Average prediction difference: ', diff / num_predictions)"
      ],
      "execution_count": 49,
      "outputs": [
        {
          "output_type": "stream",
          "text": [
            "Average prediction difference:  3.5842127799987793\n"
          ],
          "name": "stdout"
        }
      ]
    },
    {
      "cell_type": "code",
      "metadata": {
        "id": "oEVhA2XdYdUo",
        "colab_type": "code",
        "colab": {}
      },
      "source": [
        ""
      ],
      "execution_count": 0,
      "outputs": []
    }
  ]
}